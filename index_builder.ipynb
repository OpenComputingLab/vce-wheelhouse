{
 "cells": [
  {
   "cell_type": "markdown",
   "id": "attended-confidentiality",
   "metadata": {},
   "source": [
    "# Index Builder\n",
    "\n",
    "Simple script to build minimal index file for wheelhouse.\n",
    "\n",
    "Documentation:\n",
    "- [`pip wheel`](https://pip.pypa.io/en/stable/reference/pip_wheel/)\n",
    "- [PEP 503 -- Simple Repository API](https://www.python.org/dev/peps/pep-0503/)"
   ]
  },
  {
   "cell_type": "markdown",
   "id": "unnecessary-small",
   "metadata": {},
   "source": [
    "## Generator\n",
    "\n",
    "File format based on https://github.com/parkin/python-wheelhouse\n",
    "\n",
    "Format is a simple HTML file with links to packages:\n",
    "\n",
    "```\n",
    "<html>\n",
    "  <body>\n",
    "    <a href=\"beautifulsoup4-4.3.1-py26-none-any.whl\">beautifulsoup4-4.3.1-py26-none-any.whl</a></br>\n",
    "    <a href=\"beautifulsoup4-4.3.1-py27-none-any.whl\">beautifulsoup4-4.3.1-py27-none-any.whl</a></br>\n",
    "  </body>\n",
    " </html>\n",
    " ````"
   ]
  },
  {
   "cell_type": "code",
   "execution_count": 21,
   "id": "attached-handle",
   "metadata": {},
   "outputs": [],
   "source": [
    "import os\n",
    "\n",
    "html_template = \"\"\"\n",
    "<html>\n",
    "<head></head>\n",
    "<body>\n",
    "{packages}\n",
    "</body>\n",
    "</html>\n",
    "\"\"\"\n",
    "\n",
    "link_template = '<a href=\"wheelhouse/{package}\">{package}</a><br/>'\n",
    "\n",
    "_packages=[]\n",
    "\n",
    "for p in os.listdir('wheelhouse'):\n",
    "    _packages.append(link_template.format(package=p))\n",
    "\n",
    "\n",
    "with open('index.html', 'w') as f:\n",
    "    f.write(html_template.format(packages='\\n'.join(sorted(_packages))))"
   ]
  },
  {
   "cell_type": "code",
   "execution_count": 22,
   "id": "offshore-daily",
   "metadata": {},
   "outputs": [
    {
     "name": "stdout",
     "output_type": "stream",
     "text": [
      "\r\n",
      "<html>\r\n",
      "<head></head>\r\n",
      "<body>\r\n",
      "<a href=\"wheelhouse/Fiona-1.8.18-cp38-cp38-linux_aarch64.whl\">Fiona-1.8.18-cp38-cp38-linux_aarch64.whl</a><br/>\r\n",
      "<a href=\"wheelhouse/Fiona-1.8.18-cp38-cp38-linux_armv7l.whl\">Fiona-1.8.18-cp38-cp38-linux_armv7l.whl</a><br/>\r\n",
      "<a href=\"wheelhouse/Fiona-1.8.18-cp38-cp38-manylinux1_x86_64.whl\">Fiona-1.8.18-cp38-cp38-manylinux1_x86_64.whl</a><br/>\r\n",
      "<a href=\"wheelhouse/Fiona-1.8.18-cp39-cp39-macosx_10_15_x86_64.whl\">Fiona-1.8.18-cp39-cp39-macosx_10_15_x86_64.whl</a><br/>\r\n",
      "<a href=\"wheelhouse/Pillow-8.0.1-cp38-cp38-linux_armv7l.whl\">Pillow-8.0.1-cp38-cp38-linux_armv7l.whl</a><br/>\r\n",
      "<a href=\"wheelhouse/Pillow-8.0.1-cp38-cp38-manylinux1_x86_64.whl\">Pillow-8.0.1-cp38-cp38-manylinux1_x86_64.whl</a><br/>\r\n"
     ]
    }
   ],
   "source": [
    "!head index.html"
   ]
  },
  {
   "cell_type": "markdown",
   "id": "acquired-kuwait",
   "metadata": {},
   "source": [
    "## Usage of Wheels\n",
    "\n",
    "pip install --find-links https://parkin.github.io/python-wheelhouse/ --use-wheel PySide;\n",
    "\n",
    "RUN echo PyICU regex lxml pyproj==1.9.6| xargs -n 1 pip install --no-cache --find-links=./wheelhouse && rm -r ./wheelhouse\n",
    "\n",
    "RUN echo PyICU regex lxml pyproj==1.9.6| xargs -n 1 pip install --no-cache --find-links= https://opencomputinglab.github.io/vce-wheelhouse\n"
   ]
  },
  {
   "cell_type": "markdown",
   "id": "laughing-stomach",
   "metadata": {},
   "source": [
    "## Wheel Building"
   ]
  },
  {
   "cell_type": "code",
   "execution_count": 9,
   "id": "pointed-wholesale",
   "metadata": {},
   "outputs": [
    {
     "name": "stdout",
     "output_type": "stream",
     "text": [
      "Collecting kiwisolver\n",
      "  Using cached kiwisolver-1.3.1-cp39-cp39-macosx_10_9_x86_64.whl (61 kB)\n",
      "Collecting lxml\n",
      "  Downloading lxml-4.6.3-cp39-cp39-macosx_10_9_x86_64.whl (4.6 MB)\n",
      "\u001b[K     |████████████████████████████████| 4.6 MB 5.5 MB/s eta 0:00:01\n",
      "\u001b[?25hCollecting matplotlib\n",
      "  Downloading matplotlib-3.4.0-cp39-cp39-macosx_10_9_x86_64.whl (7.2 MB)\n",
      "\u001b[K     |████████████████████████████████| 7.2 MB 5.6 MB/s eta 0:00:01     |██████▊                         | 1.5 MB 5.6 MB/s eta 0:00:02\n",
      "\u001b[?25hCollecting cycler>=0.10\n",
      "  Using cached cycler-0.10.0-py2.py3-none-any.whl (6.5 kB)\n",
      "Collecting numpy>=1.16\n",
      "  Downloading numpy-1.20.1-cp39-cp39-macosx_10_9_x86_64.whl (16.1 MB)\n",
      "\u001b[K     |████████████████████████████████| 16.1 MB 2.9 MB/s eta 0:00:01\n",
      "\u001b[?25hCollecting pillow>=6.2.0\n",
      "  Downloading Pillow-8.1.2-cp39-cp39-macosx_10_10_x86_64.whl (2.2 MB)\n",
      "\u001b[K     |████████████████████████████████| 2.2 MB 2.5 MB/s eta 0:00:01\n",
      "\u001b[?25hCollecting pyparsing>=2.2.1\n",
      "  Using cached pyparsing-2.4.7-py2.py3-none-any.whl (67 kB)\n",
      "Collecting python-dateutil>=2.7\n",
      "  Using cached python_dateutil-2.8.1-py2.py3-none-any.whl (227 kB)\n",
      "Collecting six\n",
      "  Downloading six-1.15.0-py2.py3-none-any.whl (10 kB)\n",
      "Saved ./wheelhouse/kiwisolver-1.3.1-cp39-cp39-macosx_10_9_x86_64.whl\n",
      "Saved ./wheelhouse/lxml-4.6.3-cp39-cp39-macosx_10_9_x86_64.whl\n",
      "Saved ./wheelhouse/matplotlib-3.4.0-cp39-cp39-macosx_10_9_x86_64.whl\n",
      "Saved ./wheelhouse/cycler-0.10.0-py2.py3-none-any.whl\n",
      "Saved ./wheelhouse/numpy-1.20.1-cp39-cp39-macosx_10_9_x86_64.whl\n",
      "Saved ./wheelhouse/Pillow-8.1.2-cp39-cp39-macosx_10_10_x86_64.whl\n",
      "Saved ./wheelhouse/pyparsing-2.4.7-py2.py3-none-any.whl\n",
      "Saved ./wheelhouse/python_dateutil-2.8.1-py2.py3-none-any.whl\n",
      "Saved ./wheelhouse/six-1.15.0-py2.py3-none-any.whl\n",
      "\u001b[33mWARNING: You are using pip version 20.3.3; however, version 21.0.1 is available.\n",
      "You should consider upgrading via the '/usr/local/opt/python@3.9/bin/python3.9 -m pip install --upgrade pip' command.\u001b[0m\n",
      "Note: you may need to restart the kernel to use updated packages.\n"
     ]
    }
   ],
   "source": [
    "%pip wheel --wheel-dir=./wheelhouse lxml kiwisolver matplotlib aiohttp"
   ]
  },
  {
   "cell_type": "code",
   "execution_count": null,
   "id": "constant-sacrifice",
   "metadata": {},
   "outputs": [],
   "source": [
    "# Broken in Mac w/out required o/s packages?\n",
    "#%pip wheel --wheel-dir=./wheelhouse tables\n",
    "#%pip wheel --wheel-dir=./wheelhouse PyICU\n",
    "#%pip wheel --wheel-dir=./wheelhouse psycopg2"
   ]
  },
  {
   "cell_type": "code",
   "execution_count": 13,
   "id": "quick-logging",
   "metadata": {},
   "outputs": [
    {
     "name": "stdout",
     "output_type": "stream",
     "text": [
      "Collecting h5py\n",
      "  File was already downloaded /Users/tonyhirst/Documents/GitHub/vce-wheelhouse/wheelhouse/h5py-3.2.1-cp39-cp39-macosx_10_9_x86_64.whl\n",
      "Collecting numpy>=1.19.3\n",
      "  File was already downloaded /Users/tonyhirst/Documents/GitHub/vce-wheelhouse/wheelhouse/numpy-1.20.1-cp39-cp39-macosx_10_9_x86_64.whl\n",
      "Collecting numexpr\n",
      "  File was already downloaded /Users/tonyhirst/Documents/GitHub/vce-wheelhouse/wheelhouse/numexpr-2.7.3-cp39-cp39-macosx_10_9_x86_64.whl\n",
      "\u001b[33mWARNING: You are using pip version 20.3.3; however, version 21.0.1 is available.\n",
      "You should consider upgrading via the '/usr/local/opt/python@3.9/bin/python3.9 -m pip install --upgrade pip' command.\u001b[0m\n",
      "Note: you may need to restart the kernel to use updated packages.\n"
     ]
    }
   ],
   "source": [
    "%pip wheel --wheel-dir=./wheelhouse numexpr h5py"
   ]
  },
  {
   "cell_type": "code",
   "execution_count": 16,
   "id": "respiratory-juice",
   "metadata": {},
   "outputs": [
    {
     "name": "stdout",
     "output_type": "stream",
     "text": [
      "Collecting pandas\n",
      "  File was already downloaded /Users/tonyhirst/Documents/GitHub/vce-wheelhouse/wheelhouse/pandas-1.2.3-cp39-cp39-macosx_10_9_x86_64.whl\n",
      "Collecting numpy>=1.16.5\n",
      "  File was already downloaded /Users/tonyhirst/Documents/GitHub/vce-wheelhouse/wheelhouse/numpy-1.20.1-cp39-cp39-macosx_10_9_x86_64.whl\n",
      "Collecting python-dateutil>=2.7.3\n",
      "  File was already downloaded /Users/tonyhirst/Documents/GitHub/vce-wheelhouse/wheelhouse/python_dateutil-2.8.1-py2.py3-none-any.whl\n",
      "Collecting pytz>=2017.3\n",
      "  File was already downloaded /Users/tonyhirst/Documents/GitHub/vce-wheelhouse/wheelhouse/pytz-2021.1-py2.py3-none-any.whl\n",
      "Collecting six>=1.5\n",
      "  File was already downloaded /Users/tonyhirst/Documents/GitHub/vce-wheelhouse/wheelhouse/six-1.15.0-py2.py3-none-any.whl\n",
      "Collecting scipy\n",
      "  File was already downloaded /Users/tonyhirst/Documents/GitHub/vce-wheelhouse/wheelhouse/scipy-1.6.2-cp39-cp39-macosx_10_9_x86_64.whl\n",
      "Collecting statsmodels\n",
      "  File was already downloaded /Users/tonyhirst/Documents/GitHub/vce-wheelhouse/wheelhouse/statsmodels-0.12.2-cp39-cp39-macosx_10_15_x86_64.whl\n",
      "Collecting patsy>=0.5\n",
      "  File was already downloaded /Users/tonyhirst/Documents/GitHub/vce-wheelhouse/wheelhouse/patsy-0.5.1-py2.py3-none-any.whl\n",
      "\u001b[33mWARNING: You are using pip version 20.3.3; however, version 21.0.1 is available.\n",
      "You should consider upgrading via the '/usr/local/opt/python@3.9/bin/python3.9 -m pip install --upgrade pip' command.\u001b[0m\n",
      "Note: you may need to restart the kernel to use updated packages.\n"
     ]
    }
   ],
   "source": [
    "%pip wheel --wheel-dir=./wheelhouse pytz pandas scipy statsmodels"
   ]
  },
  {
   "cell_type": "code",
   "execution_count": 15,
   "id": "seasonal-prediction",
   "metadata": {},
   "outputs": [
    {
     "name": "stdout",
     "output_type": "stream",
     "text": [
      "Collecting aiohttp\n",
      "  Using cached aiohttp-3.7.4.post0-cp39-cp39-macosx_10_14_x86_64.whl (649 kB)\n",
      "Collecting multidict\n",
      "  Using cached multidict-5.1.0-cp39-cp39-macosx_10_14_x86_64.whl (49 kB)\n",
      "Collecting async-timeout<4.0,>=3.0\n",
      "  Using cached async_timeout-3.0.1-py3-none-any.whl (8.2 kB)\n",
      "Collecting attrs>=17.3.0\n",
      "  Using cached attrs-20.3.0-py2.py3-none-any.whl (49 kB)\n",
      "Collecting chardet<5.0,>=2.0\n",
      "  File was already downloaded /Users/tonyhirst/Documents/GitHub/vce-wheelhouse/wheelhouse/chardet-4.0.0-py2.py3-none-any.whl\n",
      "Collecting typing-extensions>=3.6.5\n",
      "  Using cached typing_extensions-3.7.4.3-py3-none-any.whl (22 kB)\n",
      "Collecting yarl<2.0,>=1.0\n",
      "  Using cached yarl-1.6.3-cp39-cp39-macosx_10_14_x86_64.whl (124 kB)\n",
      "Collecting idna>=2.0\n",
      "  Using cached idna-3.1-py3-none-any.whl (58 kB)\n",
      "Collecting fiona\n",
      "  Using cached Fiona-1.8.18-cp39-cp39-macosx_10_15_x86_64.whl\n",
      "Collecting click<8,>=4.0\n",
      "  Using cached click-7.1.2-py2.py3-none-any.whl (82 kB)\n",
      "Collecting click-plugins>=1.0\n",
      "  Using cached click_plugins-1.1.1-py2.py3-none-any.whl (7.5 kB)\n",
      "Collecting cligj>=0.5\n",
      "  Using cached cligj-0.7.1-py3-none-any.whl (7.1 kB)\n",
      "Collecting six>=1.7\n",
      "  File was already downloaded /Users/tonyhirst/Documents/GitHub/vce-wheelhouse/wheelhouse/six-1.15.0-py2.py3-none-any.whl\n",
      "Collecting nltk\n",
      "  Using cached nltk-3.5.zip (1.4 MB)\n",
      "Collecting pymongo\n",
      "  Downloading pymongo-3.11.3-cp39-cp39-macosx_10_9_x86_64.whl (380 kB)\n",
      "\u001b[K     |████████████████████████████████| 380 kB 5.8 MB/s eta 0:00:01\n",
      "\u001b[?25hCollecting certifi\n",
      "  Using cached certifi-2020.12.5-py2.py3-none-any.whl (147 kB)\n",
      "Collecting joblib\n",
      "  File was already downloaded /Users/tonyhirst/Documents/GitHub/vce-wheelhouse/wheelhouse/joblib-1.0.1-py3-none-any.whl\n",
      "Collecting munch\n",
      "  Using cached munch-2.5.0-py2.py3-none-any.whl (10 kB)\n",
      "Collecting regex\n",
      "  Downloading regex-2021.3.17-cp39-cp39-macosx_10_9_x86_64.whl (284 kB)\n",
      "\u001b[K     |████████████████████████████████| 284 kB 6.7 MB/s eta 0:00:01\n",
      "\u001b[?25hCollecting tqdm\n",
      "  File was already downloaded /Users/tonyhirst/Documents/GitHub/vce-wheelhouse/wheelhouse/tqdm-4.59.0-py2.py3-none-any.whl\n",
      "Saved ./wheelhouse/aiohttp-3.7.4.post0-cp39-cp39-macosx_10_14_x86_64.whl\n",
      "Saved ./wheelhouse/multidict-5.1.0-cp39-cp39-macosx_10_14_x86_64.whl\n",
      "Saved ./wheelhouse/async_timeout-3.0.1-py3-none-any.whl\n",
      "Saved ./wheelhouse/attrs-20.3.0-py2.py3-none-any.whl\n",
      "Saved ./wheelhouse/typing_extensions-3.7.4.3-py3-none-any.whl\n",
      "Saved ./wheelhouse/yarl-1.6.3-cp39-cp39-macosx_10_14_x86_64.whl\n",
      "Saved ./wheelhouse/idna-3.1-py3-none-any.whl\n",
      "Saved ./wheelhouse/Fiona-1.8.18-cp39-cp39-macosx_10_15_x86_64.whl\n",
      "Saved ./wheelhouse/click-7.1.2-py2.py3-none-any.whl\n",
      "Saved ./wheelhouse/click_plugins-1.1.1-py2.py3-none-any.whl\n",
      "Saved ./wheelhouse/cligj-0.7.1-py3-none-any.whl\n",
      "Saved ./wheelhouse/pymongo-3.11.3-cp39-cp39-macosx_10_9_x86_64.whl\n",
      "Saved ./wheelhouse/certifi-2020.12.5-py2.py3-none-any.whl\n",
      "Saved ./wheelhouse/munch-2.5.0-py2.py3-none-any.whl\n",
      "Saved ./wheelhouse/regex-2021.3.17-cp39-cp39-macosx_10_9_x86_64.whl\n",
      "Building wheels for collected packages: nltk\n",
      "  Building wheel for nltk (setup.py) ... \u001b[?25ldone\n",
      "\u001b[?25h  Created wheel for nltk: filename=nltk-3.5-py3-none-any.whl size=1434675 sha256=e5e788fadd14c714544a982107aa04ab5cf917754e5fadf4cfe262c92c7931d5\n",
      "  Stored in directory: /Users/tonyhirst/Library/Caches/pip/wheels/13/ae/bb/5e2a232ebaa1d2f38dd5f587e9fc4cf6ccb12758d14dac14d8\n",
      "Successfully built nltk\n",
      "\u001b[33mWARNING: You are using pip version 20.3.3; however, version 21.0.1 is available.\n",
      "You should consider upgrading via the '/usr/local/opt/python@3.9/bin/python3.9 -m pip install --upgrade pip' command.\u001b[0m\n",
      "Note: you may need to restart the kernel to use updated packages.\n"
     ]
    }
   ],
   "source": [
    "%pip wheel --wheel-dir=./wheelhouse pymongo nltk multidict fiona aiohttp"
   ]
  },
  {
   "cell_type": "code",
   "execution_count": 14,
   "id": "mental-thunder",
   "metadata": {},
   "outputs": [
    {
     "name": "stdout",
     "output_type": "stream",
     "text": [
      "Collecting scikit-learn\n",
      "  Using cached scikit_learn-0.24.1-cp39-cp39-macosx_10_13_x86_64.whl (7.3 MB)\n",
      "Collecting joblib>=0.11\n",
      "  Downloading joblib-1.0.1-py3-none-any.whl (303 kB)\n",
      "\u001b[K     |████████████████████████████████| 303 kB 5.6 MB/s eta 0:00:01\n",
      "\u001b[?25hCollecting numpy>=1.13.3\n",
      "  File was already downloaded /Users/tonyhirst/Documents/GitHub/vce-wheelhouse/wheelhouse/numpy-1.20.1-cp39-cp39-macosx_10_9_x86_64.whl\n",
      "Collecting scipy>=0.19.1\n",
      "  File was already downloaded /Users/tonyhirst/Documents/GitHub/vce-wheelhouse/wheelhouse/scipy-1.6.2-cp39-cp39-macosx_10_9_x86_64.whl\n",
      "Collecting threadpoolctl>=2.0.0\n",
      "  Using cached threadpoolctl-2.1.0-py3-none-any.whl (12 kB)\n",
      "Saved ./wheelhouse/scikit_learn-0.24.1-cp39-cp39-macosx_10_13_x86_64.whl\n",
      "Saved ./wheelhouse/joblib-1.0.1-py3-none-any.whl\n",
      "Saved ./wheelhouse/threadpoolctl-2.1.0-py3-none-any.whl\n",
      "\u001b[33mWARNING: You are using pip version 20.3.3; however, version 21.0.1 is available.\n",
      "You should consider upgrading via the '/usr/local/opt/python@3.9/bin/python3.9 -m pip install --upgrade pip' command.\u001b[0m\n",
      "Note: you may need to restart the kernel to use updated packages.\n"
     ]
    }
   ],
   "source": [
    "%pip wheel --wheel-dir=./wheelhouse scikit-learn"
   ]
  },
  {
   "cell_type": "code",
   "execution_count": 17,
   "id": "living-yesterday",
   "metadata": {},
   "outputs": [
    {
     "name": "stdout",
     "output_type": "stream",
     "text": [
      "Collecting multidict\n",
      "  File was already downloaded /Users/tonyhirst/Documents/GitHub/vce-wheelhouse/wheelhouse/multidict-5.1.0-cp39-cp39-macosx_10_14_x86_64.whl\n",
      "Collecting PyYAML\n",
      "  Using cached PyYAML-5.4.1-cp39-cp39-macosx_10_9_x86_64.whl (259 kB)\n",
      "Collecting pyzmq\n",
      "  Downloading pyzmq-22.0.3-cp39-cp39-macosx_10_15_universal2.whl (1.9 MB)\n",
      "\u001b[K     |████████████████████████████████| 1.9 MB 6.1 MB/s eta 0:00:01\n",
      "\u001b[?25hCollecting regex\n",
      "  File was already downloaded /Users/tonyhirst/Documents/GitHub/vce-wheelhouse/wheelhouse/regex-2021.3.17-cp39-cp39-macosx_10_9_x86_64.whl\n",
      "Collecting yarl\n",
      "  File was already downloaded /Users/tonyhirst/Documents/GitHub/vce-wheelhouse/wheelhouse/yarl-1.6.3-cp39-cp39-macosx_10_14_x86_64.whl\n",
      "Collecting idna>=2.0\n",
      "  File was already downloaded /Users/tonyhirst/Documents/GitHub/vce-wheelhouse/wheelhouse/idna-3.1-py3-none-any.whl\n",
      "Saved ./wheelhouse/PyYAML-5.4.1-cp39-cp39-macosx_10_9_x86_64.whl\n",
      "Saved ./wheelhouse/pyzmq-22.0.3-cp39-cp39-macosx_10_15_universal2.whl\n",
      "\u001b[33mWARNING: You are using pip version 20.3.3; however, version 21.0.1 is available.\n",
      "You should consider upgrading via the '/usr/local/opt/python@3.9/bin/python3.9 -m pip install --upgrade pip' command.\u001b[0m\n",
      "Note: you may need to restart the kernel to use updated packages.\n"
     ]
    }
   ],
   "source": [
    "%pip wheel --wheel-dir=./wheelhouse multidict PyYAML pyzmq regex yarl"
   ]
  },
  {
   "cell_type": "code",
   "execution_count": null,
   "id": "introductory-wings",
   "metadata": {},
   "outputs": [],
   "source": [
    "%pip wheel --wheel-dir=./wheelhouse Shapely fiona"
   ]
  },
  {
   "cell_type": "code",
   "execution_count": 19,
   "id": "medieval-evening",
   "metadata": {},
   "outputs": [
    {
     "name": "stdout",
     "output_type": "stream",
     "text": [
      "Collecting durable_rules\n",
      "  Using cached durable_rules-2.0.28-cp39-cp39-macosx_10_15_x86_64.whl\n",
      "  File was already downloaded /Users/tonyhirst/Documents/GitHub/vce-wheelhouse/wheelhouse/durable_rules-2.0.28-cp39-cp39-macosx_10_15_x86_64.whl\n",
      "\u001b[33mWARNING: You are using pip version 20.3.3; however, version 21.0.1 is available.\n",
      "You should consider upgrading via the '/usr/local/opt/python@3.9/bin/python3.9 -m pip install --upgrade pip' command.\u001b[0m\n",
      "Note: you may need to restart the kernel to use updated packages.\n"
     ]
    }
   ],
   "source": [
    "%pip wheel --wheel-dir=./wheelhouse durable_rules"
   ]
  },
  {
   "cell_type": "code",
   "execution_count": null,
   "id": "fixed-fiber",
   "metadata": {},
   "outputs": [],
   "source": []
  }
 ],
 "metadata": {
  "kernelspec": {
   "display_name": "Python 3",
   "language": "python",
   "name": "python3"
  },
  "language_info": {
   "codemirror_mode": {
    "name": "ipython",
    "version": 3
   },
   "file_extension": ".py",
   "mimetype": "text/x-python",
   "name": "python",
   "nbconvert_exporter": "python",
   "pygments_lexer": "ipython3",
   "version": "3.9.1"
  }
 },
 "nbformat": 4,
 "nbformat_minor": 5
}
