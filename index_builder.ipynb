{
 "cells": [
  {
   "cell_type": "markdown",
   "id": "stainless-halifax",
   "metadata": {},
   "source": [
    "# Index Builder\n",
    "\n",
    "Simple script to build minimal index file for wheelhouse.\n",
    "\n",
    "Documentation:\n",
    "- [`pip wheel`](https://pip.pypa.io/en/stable/reference/pip_wheel/)\n",
    "- [PEP 503 -- Simple Repository API](https://www.python.org/dev/peps/pep-0503/)"
   ]
  },
  {
   "cell_type": "markdown",
   "id": "complicated-environment",
   "metadata": {},
   "source": [
    "## Generator\n",
    "\n",
    "File format based on https://github.com/parkin/python-wheelhouse\n",
    "\n",
    "Format is a simple HTML file with links to packages:\n",
    "\n",
    "```\n",
    "<html>\n",
    "  <body>\n",
    "    <a href=\"beautifulsoup4-4.3.1-py26-none-any.whl\">beautifulsoup4-4.3.1-py26-none-any.whl</a></br>\n",
    "    <a href=\"beautifulsoup4-4.3.1-py27-none-any.whl\">beautifulsoup4-4.3.1-py27-none-any.whl</a></br>\n",
    "  </body>\n",
    " </html>\n",
    " ````"
   ]
  },
  {
   "cell_type": "code",
   "execution_count": 6,
   "id": "hungarian-aquarium",
   "metadata": {},
   "outputs": [],
   "source": [
    "import os\n",
    "\n",
    "html_template = \"\"\"\n",
    "<html>\n",
    "<head></head>\n",
    "<body>\n",
    "{packages}\n",
    "</body>\n",
    "</html>\n",
    "\"\"\"\n",
    "\n",
    "link_template = '<a href=\"wheelhouse/{package}\">{package}</a><br/>'\n",
    "\n",
    "_packages=[]\n",
    "\n",
    "for p in os.listdir('wheelhouse'):\n",
    "    _packages.append(link_template.format(package=p))\n",
    "\n",
    "\n",
    "with open('index.html', 'w') as f:\n",
    "    f.write(html_template.format(packages='\\n'.join(_packages)))"
   ]
  },
  {
   "cell_type": "code",
   "execution_count": 7,
   "id": "experienced-terry",
   "metadata": {},
   "outputs": [
    {
     "name": "stdout",
     "output_type": "stream",
     "text": [
      "\r\n",
      "<html>\r\n",
      "<head></head>\r\n",
      "<body>\r\n",
      "<a href=\"wheelhouse/numexpr-2.7.1-cp38-cp38-linux_aarch64.whl\">numexpr-2.7.1-cp38-cp38-linux_aarch64.whl</a><br/>\r\n",
      "<a href=\"wheelhouse/h5py-3.2.1-cp38-cp38-linux_aarch64.whl\">h5py-3.2.1-cp38-cp38-linux_aarch64.whl</a><br/>\r\n",
      "<a href=\"wheelhouse/pyzmq-20.0.0-cp38-cp38-linux_armv7l.whl\">pyzmq-20.0.0-cp38-cp38-linux_armv7l.whl</a><br/>\r\n",
      "<a href=\"wheelhouse/SQLAlchemy-1.4.0-cp38-cp38-manylinux2014_aarch64.whl\">SQLAlchemy-1.4.0-cp38-cp38-manylinux2014_aarch64.whl</a><br/>\r\n",
      "<a href=\"wheelhouse/psycopg2-2.8.6-cp38-cp38-linux_armv7l.whl\">psycopg2-2.8.6-cp38-cp38-linux_armv7l.whl</a><br/>\r\n",
      "<a href=\"wheelhouse/pytz-2020.5-py2.py3-none-any.whl\">pytz-2020.5-py2.py3-none-any.whl</a><br/>\r\n"
     ]
    }
   ],
   "source": [
    "!head index.html"
   ]
  },
  {
   "cell_type": "markdown",
   "id": "structural-gibraltar",
   "metadata": {},
   "source": [
    "## Usage of Wheels\n",
    "\n",
    "pip install --find-links https://parkin.github.io/python-wheelhouse/ --use-wheel PySide;\n",
    "\n",
    "RUN echo PyICU regex lxml pyproj==1.9.6| xargs -n 1 pip install --no-cache --find-links=./wheelhouse && rm -r ./wheelhouse\n",
    "\n",
    "RUN echo PyICU regex lxml pyproj==1.9.6| xargs -n 1 pip install --no-cache --find-links= https://opencomputinglab.github.io/vce-wheelhouse/wheelhouse \n"
   ]
  },
  {
   "cell_type": "code",
   "execution_count": null,
   "id": "genetic-sheep",
   "metadata": {},
   "outputs": [],
   "source": []
  }
 ],
 "metadata": {
  "kernelspec": {
   "display_name": "Python 3",
   "language": "python",
   "name": "python3"
  },
  "language_info": {
   "codemirror_mode": {
    "name": "ipython",
    "version": 3
   },
   "file_extension": ".py",
   "mimetype": "text/x-python",
   "name": "python",
   "nbconvert_exporter": "python",
   "pygments_lexer": "ipython3",
   "version": "3.9.1"
  }
 },
 "nbformat": 4,
 "nbformat_minor": 5
}
