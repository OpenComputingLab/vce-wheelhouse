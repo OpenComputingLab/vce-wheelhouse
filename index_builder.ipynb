{
 "cells": [
  {
   "cell_type": "markdown",
   "id": "reliable-orange",
   "metadata": {},
   "source": [
    "# Index Builder\n",
    "\n",
    "Simple script to build minimal index file for wheelhouse.\n",
    "\n",
    "Documentation:\n",
    "- [`pip wheel`](https://pip.pypa.io/en/stable/reference/pip_wheel/)\n",
    "- [PEP 503 -- Simple Repository API](https://www.python.org/dev/peps/pep-0503/)"
   ]
  },
  {
   "cell_type": "markdown",
   "id": "direct-tournament",
   "metadata": {},
   "source": [
    "## Generator\n",
    "\n",
    "File format based on https://github.com/parkin/python-wheelhouse\n",
    "\n",
    "Format is a simple HTML file with links to packages:\n",
    "\n",
    "```\n",
    "<html>\n",
    "  <body>\n",
    "    <a href=\"beautifulsoup4-4.3.1-py26-none-any.whl\">beautifulsoup4-4.3.1-py26-none-any.whl</a></br>\n",
    "    <a href=\"beautifulsoup4-4.3.1-py27-none-any.whl\">beautifulsoup4-4.3.1-py27-none-any.whl</a></br>\n",
    "  </body>\n",
    " </html>\n",
    " ````"
   ]
  },
  {
   "cell_type": "code",
   "execution_count": 4,
   "id": "cubic-cattle",
   "metadata": {},
   "outputs": [
    {
     "data": {
      "text/plain": [
       "'<a href=\"wheelhouse/numexpr-2.7.1-cp38-cp38-linux_aarch64.whl\">numexpr-2.7.1-cp38-cp38-linux_aarch64.whl</a><br/>\\n<a href=\"wheelhouse/h5py-3.2.1-cp38-cp38-linux_aarch64.whl\">h5py-3.2.1-cp38-cp38-linux_aarch64.whl</a><br/>\\n<a href=\"wheelhouse/pyzmq-20.0.0-cp38-cp38-linux_armv7l.whl\">pyzmq-20.0.0-cp38-cp38-linux_armv7l.whl</a><br/>\\n<a href=\"wheelhouse/SQLAlchemy-1.4.0-cp38-cp38-manylinux2014_aarch64.whl\">SQLAlchemy-1.4.0-cp38-cp38-manylinux2014_aarch64.whl</a><br/>\\n<a href=\"wheelhouse/psycopg2-2.8.6-cp38-cp38-linux_armv7l.whl\">psycopg2-2.8.6-cp38-cp38-linux_armv7l.whl</a><br/>\\n<a href=\"wheelhouse/pytz-2020.5-py2.py3-none-any.whl\">pytz-2020.5-py2.py3-none-any.whl</a><br/>\\n<a href=\"wheelhouse/scipy-1.6.0-cp38-cp38-manylinux2014_aarch64.whl\">scipy-1.6.0-cp38-cp38-manylinux2014_aarch64.whl</a><br/>\\n<a href=\"wheelhouse/jupyter_ui_poll-0.1.2-py2.py3-none-any.whl\">jupyter_ui_poll-0.1.2-py2.py3-none-any.whl</a><br/>\\n<a href=\"wheelhouse/Fiona-1.8.18-cp38-cp38-linux_armv7l.whl\">Fiona-1.8.18-cp38-cp38-linux_armv7l.whl</a><br/>\\n<a href=\"wheelhouse/psutil-5.8.0-cp38-cp38-linux_armv7l.whl\">psutil-5.8.0-cp38-cp38-linux_armv7l.whl</a><br/>\\n<a href=\"wheelhouse/SQLAlchemy-1.3.20-cp38-cp38-manylinux2014_aarch64.whl\">SQLAlchemy-1.3.20-cp38-cp38-manylinux2014_aarch64.whl</a><br/>\\n<a href=\"wheelhouse/psycopg2-2.8.6-cp38-cp38-linux_aarch64.whl\">psycopg2-2.8.6-cp38-cp38-linux_aarch64.whl</a><br/>\\n<a href=\"wheelhouse/numpy-1.20.1-cp38-cp38-linux_armv7l.whl\">numpy-1.20.1-cp38-cp38-linux_armv7l.whl</a><br/>\\n<a href=\"wheelhouse/statsmodels-0.12.2-cp38-cp38-linux_armv7l.whl\">statsmodels-0.12.2-cp38-cp38-linux_armv7l.whl</a><br/>\\n<a href=\"wheelhouse/scipy-1.6.2-cp38-cp38-linux_armv7l.whl\">scipy-1.6.2-cp38-cp38-linux_armv7l.whl</a><br/>\\n<a href=\"wheelhouse/pyproj-1.9.6-cp38-cp38-linux_armv7l.whl\">pyproj-1.9.6-cp38-cp38-linux_armv7l.whl</a><br/>\\n<a href=\"wheelhouse/regex-2020.11.13-cp38-cp38-linux_armv7l.whl\">regex-2020.11.13-cp38-cp38-linux_armv7l.whl</a><br/>\\n<a href=\"wheelhouse/PyICU-2.6-cp38-cp38-linux_armv7l.whl\">PyICU-2.6-cp38-cp38-linux_armv7l.whl</a><br/>\\n<a href=\"wheelhouse/pandas-1.2.0-cp38-cp38-manylinux2014_aarch64.whl\">pandas-1.2.0-cp38-cp38-manylinux2014_aarch64.whl</a><br/>\\n<a href=\"wheelhouse/yarl-1.6.3-cp38-cp38-linux_armv7l.whl\">yarl-1.6.3-cp38-cp38-linux_armv7l.whl</a><br/>\\n<a href=\"wheelhouse/tflite_runtime-2.5.0-cp38-cp38-linux_aarch64.whl\">tflite_runtime-2.5.0-cp38-cp38-linux_aarch64.whl</a><br/>\\n<a href=\"wheelhouse/matplotlib-3.3.4-cp38-cp38-linux_aarch64.whl\">matplotlib-3.3.4-cp38-cp38-linux_aarch64.whl</a><br/>\\n<a href=\"wheelhouse/tflite_runtime-2.5.0-cp38-cp38-linux_armv7l.whl\">tflite_runtime-2.5.0-cp38-cp38-linux_armv7l.whl</a><br/>\\n<a href=\"wheelhouse/pyzmq-22.0.3-cp38-cp38-linux_armv7l.whl\">pyzmq-22.0.3-cp38-cp38-linux_armv7l.whl</a><br/>\\n<a href=\"wheelhouse/pytz-2021.1-py2.py3-none-any.whl\">pytz-2021.1-py2.py3-none-any.whl</a><br/>\\n<a href=\"wheelhouse/regex-2021.3.17-cp38-cp38-linux_armv7l.whl\">regex-2021.3.17-cp38-cp38-linux_armv7l.whl</a><br/>\\n<a href=\"wheelhouse/PyYAML-5.3.1-cp38-cp38-linux_x86_64.whl\">PyYAML-5.3.1-cp38-cp38-linux_x86_64.whl</a><br/>\\n<a href=\"wheelhouse/durable_rules-2.0.28-cp38-cp38-linux_aarch64.whl\">durable_rules-2.0.28-cp38-cp38-linux_aarch64.whl</a><br/>\\n<a href=\"wheelhouse/tqdm-4.59.0-py2.py3-none-any.whl\">tqdm-4.59.0-py2.py3-none-any.whl</a><br/>\\n<a href=\"wheelhouse/pandas-1.2.0-cp38-cp38-linux_armv7l.whl\">pandas-1.2.0-cp38-cp38-linux_armv7l.whl</a><br/>\\n<a href=\"wheelhouse/numpy-1.19.4-cp38-cp38-manylinux2010_x86_64.whl\">numpy-1.19.4-cp38-cp38-manylinux2010_x86_64.whl</a><br/>\\n<a href=\"wheelhouse/aiohttp-3.7.3-cp38-cp38-manylinux2014_x86_64.whl\">aiohttp-3.7.3-cp38-cp38-manylinux2014_x86_64.whl</a><br/>\\n<a href=\"wheelhouse/Shapely-1.7.1-cp38-cp38-linux_armv7l.whl\">Shapely-1.7.1-cp38-cp38-linux_armv7l.whl</a><br/>\\n<a href=\"wheelhouse/pymongo-3.11.3-cp38-cp38-linux_armv7l.whl\">pymongo-3.11.3-cp38-cp38-linux_armv7l.whl</a><br/>\\n<a href=\"wheelhouse/statsmodels-0.12.1-cp38-cp38-linux_aarch64.whl\">statsmodels-0.12.1-cp38-cp38-linux_aarch64.whl</a><br/>\\n<a href=\"wheelhouse/SQLAlchemy-1.4.2-cp38-cp38-linux_armv7l.whl\">SQLAlchemy-1.4.2-cp38-cp38-linux_armv7l.whl</a><br/>\\n<a href=\"wheelhouse/regex-2020.11.13-cp38-cp38-manylinux2014_aarch64.whl\">regex-2020.11.13-cp38-cp38-manylinux2014_aarch64.whl</a><br/>\\n<a href=\"wheelhouse/multidict-5.1.0-cp38-cp38-manylinux2014_x86_64.whl\">multidict-5.1.0-cp38-cp38-manylinux2014_x86_64.whl</a><br/>\\n<a href=\"wheelhouse/psutil-5.8.0-cp38-cp38-manylinux2010_x86_64.whl\">psutil-5.8.0-cp38-cp38-manylinux2010_x86_64.whl</a><br/>\\n<a href=\"wheelhouse/scipy-1.5.4-cp38-cp38-linux_armv7l.whl\">scipy-1.5.4-cp38-cp38-linux_armv7l.whl</a><br/>\\n<a href=\"wheelhouse/tables-3.6.1-cp38-cp38-linux_aarch64.whl\">tables-3.6.1-cp38-cp38-linux_aarch64.whl</a><br/>\\n<a href=\"wheelhouse/multidict-5.1.0-cp38-cp38-manylinux2014_aarch64.whl\">multidict-5.1.0-cp38-cp38-manylinux2014_aarch64.whl</a><br/>\\n<a href=\"wheelhouse/yarl-1.6.3-cp38-cp38-manylinux2014_x86_64.whl\">yarl-1.6.3-cp38-cp38-manylinux2014_x86_64.whl</a><br/>\\n<a href=\"wheelhouse/numpy-1.20.1-cp38-cp38-manylinux2014_aarch64.whl\">numpy-1.20.1-cp38-cp38-manylinux2014_aarch64.whl</a><br/>\\n<a href=\"wheelhouse/lxml-4.6.1-cp38-cp38-linux_armv7l.whl\">lxml-4.6.1-cp38-cp38-linux_armv7l.whl</a><br/>\\n<a href=\"wheelhouse/kiwisolver-1.3.1-cp38-cp38-linux_armv7l.whl\">kiwisolver-1.3.1-cp38-cp38-linux_armv7l.whl</a><br/>\\n<a href=\"wheelhouse/SQLAlchemy-1.3.22-cp38-cp38-manylinux2010_x86_64.whl\">SQLAlchemy-1.3.22-cp38-cp38-manylinux2010_x86_64.whl</a><br/>\\n<a href=\"wheelhouse/psutil-5.8.0-cp38-cp38-linux_aarch64.whl\">psutil-5.8.0-cp38-cp38-linux_aarch64.whl</a><br/>\\n<a href=\"wheelhouse/pymongo-3.11.3-cp38-cp38-manylinux2014_aarch64.whl\">pymongo-3.11.3-cp38-cp38-manylinux2014_aarch64.whl</a><br/>\\n<a href=\"wheelhouse/chardet-4.0.0-py2.py3-none-any.whl\">chardet-4.0.0-py2.py3-none-any.whl</a><br/>\\n<a href=\"wheelhouse/tables-3.6.1-cp38-cp38-linux_armv7l.whl\">tables-3.6.1-cp38-cp38-linux_armv7l.whl</a><br/>\\n<a href=\"wheelhouse/psutil-5.7.3-cp38-cp38-linux_armv7l.whl\">psutil-5.7.3-cp38-cp38-linux_armv7l.whl</a><br/>\\n<a href=\"wheelhouse/durable_rules-2.0.28-cp38-cp38-linux_armv7l.whl\">durable_rules-2.0.28-cp38-cp38-linux_armv7l.whl</a><br/>\\n<a href=\"wheelhouse/psycopg2_binary-2.8.6-cp38-cp38-linux_aarch64.whl\">psycopg2_binary-2.8.6-cp38-cp38-linux_aarch64.whl</a><br/>\\n<a href=\"wheelhouse/PyYAML-5.3.1-cp38-cp38-linux_aarch64.whl\">PyYAML-5.3.1-cp38-cp38-linux_aarch64.whl</a><br/>\\n<a href=\"wheelhouse/yarl-1.6.3-cp38-cp38-manylinux2014_aarch64.whl\">yarl-1.6.3-cp38-cp38-manylinux2014_aarch64.whl</a><br/>\\n<a href=\"wheelhouse/scikit_learn-0.23.2-cp38-cp38-linux_aarch64.whl\">scikit_learn-0.23.2-cp38-cp38-linux_aarch64.whl</a><br/>\\n<a href=\"wheelhouse/PyYAML-5.3.1-cp38-cp38-linux_armv7l.whl\">PyYAML-5.3.1-cp38-cp38-linux_armv7l.whl</a><br/>\\n<a href=\"wheelhouse/tflite_runtime-2.5.0-cp38-cp38-linux_x86_64.whl\">tflite_runtime-2.5.0-cp38-cp38-linux_x86_64.whl</a><br/>\\n<a href=\"wheelhouse/pyzmq-20.0.0-cp38-cp38-linux_aarch64.whl\">pyzmq-20.0.0-cp38-cp38-linux_aarch64.whl</a><br/>\\n<a href=\"wheelhouse/numexpr-2.7.1-cp38-cp38-linux_armv7l.whl\">numexpr-2.7.1-cp38-cp38-linux_armv7l.whl</a><br/>\\n<a href=\"wheelhouse/Pillow-8.0.1-cp38-cp38-manylinux1_x86_64.whl\">Pillow-8.0.1-cp38-cp38-manylinux1_x86_64.whl</a><br/>\\n<a href=\"wheelhouse/SQLAlchemy-1.3.22-cp38-cp38-linux_armv7l.whl\">SQLAlchemy-1.3.22-cp38-cp38-linux_armv7l.whl</a><br/>\\n<a href=\"wheelhouse/lxml-4.6.2-cp38-cp38-manylinux2014_aarch64.whl\">lxml-4.6.2-cp38-cp38-manylinux2014_aarch64.whl</a><br/>\\n<a href=\"wheelhouse/pandas-1.2.3-cp38-cp38-linux_aarch64.whl\">pandas-1.2.3-cp38-cp38-linux_aarch64.whl</a><br/>\\n<a href=\"wheelhouse/Pillow-8.1.2-cp38-cp38-linux_armv7l.whl\">Pillow-8.1.2-cp38-cp38-linux_armv7l.whl</a><br/>\\n<a href=\"wheelhouse/PyYAML-5.4.1-cp38-cp38-manylinux2014_aarch64.whl\">PyYAML-5.4.1-cp38-cp38-manylinux2014_aarch64.whl</a><br/>\\n<a href=\"wheelhouse/matplotlib-3.3.3-cp38-cp38-linux_aarch64.whl\">matplotlib-3.3.3-cp38-cp38-linux_aarch64.whl</a><br/>\\n<a href=\"wheelhouse/pymongo-3.11.1-cp38-cp38-linux_armv7l.whl\">pymongo-3.11.1-cp38-cp38-linux_armv7l.whl</a><br/>\\n<a href=\"wheelhouse/numpy-1.19.4-cp38-cp38-linux_armv7l.whl\">numpy-1.19.4-cp38-cp38-linux_armv7l.whl</a><br/>\\n<a href=\"wheelhouse/scipy-1.6.1-cp38-cp38-linux_armv7l.whl\">scipy-1.6.1-cp38-cp38-linux_armv7l.whl</a><br/>\\n<a href=\"wheelhouse/Pillow-8.1.2-cp38-cp38-manylinux2014_aarch64.whl\">Pillow-8.1.2-cp38-cp38-manylinux2014_aarch64.whl</a><br/>\\n<a href=\"wheelhouse/matplotlib-3.3.3-cp38-cp38-linux_armv7l.whl\">matplotlib-3.3.3-cp38-cp38-linux_armv7l.whl</a><br/>\\n<a href=\"wheelhouse/pandas-1.2.3-cp38-cp38-linux_armv7l.whl\">pandas-1.2.3-cp38-cp38-linux_armv7l.whl</a><br/>\\n<a href=\"wheelhouse/scikit_learn-0.24.0-cp38-cp38-manylinux2014_aarch64.whl\">scikit_learn-0.24.0-cp38-cp38-manylinux2014_aarch64.whl</a><br/>\\n<a href=\"wheelhouse/h5py-3.2.1-cp38-cp38-linux_armv7l.whl\">h5py-3.2.1-cp38-cp38-linux_armv7l.whl</a><br/>\\n<a href=\"wheelhouse/lxml-4.6.3-cp38-cp38-linux_armv7l.whl\">lxml-4.6.3-cp38-cp38-linux_armv7l.whl</a><br/>\\n<a href=\"wheelhouse/scipy-1.6.1-cp38-cp38-manylinux2014_aarch64.whl\">scipy-1.6.1-cp38-cp38-manylinux2014_aarch64.whl</a><br/>\\n<a href=\"wheelhouse/Fiona-1.8.18-cp38-cp38-linux_aarch64.whl\">Fiona-1.8.18-cp38-cp38-linux_aarch64.whl</a><br/>\\n<a href=\"wheelhouse/pandas-1.1.4-cp38-cp38-linux_armv7l.whl\">pandas-1.1.4-cp38-cp38-linux_armv7l.whl</a><br/>\\n<a href=\"wheelhouse/SQLAlchemy-1.4.2-cp38-cp38-manylinux2014_aarch64.whl\">SQLAlchemy-1.4.2-cp38-cp38-manylinux2014_aarch64.whl</a><br/>\\n<a href=\"wheelhouse/pyproj-3.0.1-cp38-cp38-manylinux2014_aarch64.whl\">pyproj-3.0.1-cp38-cp38-manylinux2014_aarch64.whl</a><br/>\\n<a href=\"wheelhouse/scikit_learn-0.24.0-cp38-cp38-linux_armv7l.whl\">scikit_learn-0.24.0-cp38-cp38-linux_armv7l.whl</a><br/>\\n<a href=\"wheelhouse/aiohttp-3.7.4.post0-cp38-cp38-manylinux2014_aarch64.whl\">aiohttp-3.7.4.post0-cp38-cp38-manylinux2014_aarch64.whl</a><br/>\\n<a href=\"wheelhouse/numexpr-2.7.3-cp38-cp38-linux_armv7l.whl\">numexpr-2.7.3-cp38-cp38-linux_armv7l.whl</a><br/>\\n<a href=\"wheelhouse/aiohttp-3.7.3-cp38-cp38-linux_armv7l.whl\">aiohttp-3.7.3-cp38-cp38-linux_armv7l.whl</a><br/>\\n<a href=\"wheelhouse/aiohttp-3.7.4.post0-cp38-cp38-linux_armv7l.whl\">aiohttp-3.7.4.post0-cp38-cp38-linux_armv7l.whl</a><br/>\\n<a href=\"wheelhouse/PyICU-2.6-cp38-cp38-linux_aarch64.whl\">PyICU-2.6-cp38-cp38-linux_aarch64.whl</a><br/>\\n<a href=\"wheelhouse/matplotlib-3.3.4-cp38-cp38-linux_armv7l.whl\">matplotlib-3.3.4-cp38-cp38-linux_armv7l.whl</a><br/>\\n<a href=\"wheelhouse/regex-2021.3.17-cp38-cp38-manylinux2014_aarch64.whl\">regex-2021.3.17-cp38-cp38-manylinux2014_aarch64.whl</a><br/>\\n<a href=\"wheelhouse/lxml-4.6.2-cp38-cp38-manylinux1_x86_64.whl\">lxml-4.6.2-cp38-cp38-manylinux1_x86_64.whl</a><br/>\\n<a href=\"wheelhouse/statsmodels-0.12.1-cp38-cp38-linux_armv7l.whl\">statsmodels-0.12.1-cp38-cp38-linux_armv7l.whl</a><br/>\\n<a href=\"wheelhouse/SQLAlchemy-1.3.20-cp38-cp38-linux_armv7l.whl\">SQLAlchemy-1.3.20-cp38-cp38-linux_armv7l.whl</a><br/>\\n<a href=\"wheelhouse/psutil-5.7.3-cp38-cp38-linux_aarch64.whl\">psutil-5.7.3-cp38-cp38-linux_aarch64.whl</a><br/>\\n<a href=\"wheelhouse/h5py-3.1.0-cp38-cp38-linux_aarch64.whl\">h5py-3.1.0-cp38-cp38-linux_aarch64.whl</a><br/>\\n<a href=\"wheelhouse/numpy-1.19.4-cp38-cp38-manylinux2014_aarch64.whl\">numpy-1.19.4-cp38-cp38-manylinux2014_aarch64.whl</a><br/>\\n<a href=\"wheelhouse/SQLAlchemy-1.3.22-cp38-cp38-manylinux2014_aarch64.whl\">SQLAlchemy-1.3.22-cp38-cp38-manylinux2014_aarch64.whl</a><br/>\\n<a href=\"wheelhouse/Pillow-8.0.1-cp38-cp38-manylinux2014_aarch64.whl\">Pillow-8.0.1-cp38-cp38-manylinux2014_aarch64.whl</a><br/>\\n<a href=\"wheelhouse/statsmodels-0.12.2-cp38-cp38-linux_aarch64.whl\">statsmodels-0.12.2-cp38-cp38-linux_aarch64.whl</a><br/>\\n<a href=\"wheelhouse/kiwisolver-1.3.1-cp38-cp38-manylinux1_x86_64.whl\">kiwisolver-1.3.1-cp38-cp38-manylinux1_x86_64.whl</a><br/>\\n<a href=\"wheelhouse/scikit_learn-0.24.1-cp38-cp38-linux_aarch64.whl\">scikit_learn-0.24.1-cp38-cp38-linux_aarch64.whl</a><br/>\\n<a href=\"wheelhouse/jp_proxy_widget-1.0.8-py2.py3-none-any.whl\">jp_proxy_widget-1.0.8-py2.py3-none-any.whl</a><br/>\\n<a href=\"wheelhouse/scipy-1.6.2-cp38-cp38-manylinux2014_aarch64.whl\">scipy-1.6.2-cp38-cp38-manylinux2014_aarch64.whl</a><br/>\\n<a href=\"wheelhouse/numexpr-2.7.3-cp38-cp38-manylinux2014_aarch64.whl\">numexpr-2.7.3-cp38-cp38-manylinux2014_aarch64.whl</a><br/>\\n<a href=\"wheelhouse/scikit_learn-0.24.1-cp38-cp38-linux_armv7l.whl\">scikit_learn-0.24.1-cp38-cp38-linux_armv7l.whl</a><br/>\\n<a href=\"wheelhouse/Pillow-8.0.1-cp38-cp38-linux_armv7l.whl\">Pillow-8.0.1-cp38-cp38-linux_armv7l.whl</a><br/>\\n<a href=\"wheelhouse/numexpr-2.7.2-cp38-cp38-linux_armv7l.whl\">numexpr-2.7.2-cp38-cp38-linux_armv7l.whl</a><br/>\\n<a href=\"wheelhouse/Shapely-1.7.1-cp38-cp38-linux_aarch64.whl\">Shapely-1.7.1-cp38-cp38-linux_aarch64.whl</a><br/>\\n<a href=\"wheelhouse/matplotlib-3.3.3-cp38-cp38-manylinux1_x86_64.whl\">matplotlib-3.3.3-cp38-cp38-manylinux1_x86_64.whl</a><br/>\\n<a href=\"wheelhouse/h5py-3.1.0-cp38-cp38-linux_armv7l.whl\">h5py-3.1.0-cp38-cp38-linux_armv7l.whl</a><br/>\\n<a href=\"wheelhouse/pandas-1.1.4-cp38-cp38-manylinux2014_aarch64.whl\">pandas-1.1.4-cp38-cp38-manylinux2014_aarch64.whl</a><br/>\\n<a href=\"wheelhouse/kiwisolver-1.3.1-cp38-cp38-manylinux2014_aarch64.whl\">kiwisolver-1.3.1-cp38-cp38-manylinux2014_aarch64.whl</a><br/>\\n<a href=\"wheelhouse/psycopg2_binary-2.8.6-cp38-cp38-linux_armv7l.whl\">psycopg2_binary-2.8.6-cp38-cp38-linux_armv7l.whl</a><br/>\\n<a href=\"wheelhouse/multidict-5.1.0-cp38-cp38-linux_armv7l.whl\">multidict-5.1.0-cp38-cp38-linux_armv7l.whl</a><br/>\\n<a href=\"wheelhouse/pyproj-1.9.6-cp38-cp38-linux_aarch64.whl\">pyproj-1.9.6-cp38-cp38-linux_aarch64.whl</a><br/>\\n<a href=\"wheelhouse/pyzmq-22.0.3-cp38-cp38-manylinux2014_aarch64.whl\">pyzmq-22.0.3-cp38-cp38-manylinux2014_aarch64.whl</a><br/>\\n<a href=\"wheelhouse/multidict-5.0.2-cp38-cp38-manylinux2014_aarch64.whl\">multidict-5.0.2-cp38-cp38-manylinux2014_aarch64.whl</a><br/>\\n<a href=\"wheelhouse/scipy-1.6.0-cp38-cp38-linux_armv7l.whl\">scipy-1.6.0-cp38-cp38-linux_armv7l.whl</a><br/>\\n<a href=\"wheelhouse/PyYAML-5.4.1-cp38-cp38-linux_armv7l.whl\">PyYAML-5.4.1-cp38-cp38-linux_armv7l.whl</a><br/>\\n<a href=\"wheelhouse/nltk-3.5-py3-none-any.whl\">nltk-3.5-py3-none-any.whl</a><br/>\\n<a href=\"wheelhouse/scikit_learn-0.23.2-cp38-cp38-linux_armv7l.whl\">scikit_learn-0.23.2-cp38-cp38-linux_armv7l.whl</a><br/>\\n<a href=\"wheelhouse/numexpr-2.7.2-cp38-cp38-linux_aarch64.whl\">numexpr-2.7.2-cp38-cp38-linux_aarch64.whl</a><br/>\\n<a href=\"wheelhouse/scipy-1.5.4-cp38-cp38-manylinux2014_aarch64.whl\">scipy-1.5.4-cp38-cp38-manylinux2014_aarch64.whl</a><br/>\\n<a href=\"wheelhouse/aiohttp-3.7.3-cp38-cp38-manylinux2014_aarch64.whl\">aiohttp-3.7.3-cp38-cp38-manylinux2014_aarch64.whl</a><br/>\\n<a href=\"wheelhouse/lxml-4.6.3-cp38-cp38-manylinux2014_aarch64.whl\">lxml-4.6.3-cp38-cp38-manylinux2014_aarch64.whl</a><br/>\\n<a href=\"wheelhouse/lxml-4.6.2-cp38-cp38-linux_armv7l.whl\">lxml-4.6.2-cp38-cp38-linux_armv7l.whl</a><br/>\\n<a href=\"wheelhouse/multidict-5.0.2-cp38-cp38-linux_armv7l.whl\">multidict-5.0.2-cp38-cp38-linux_armv7l.whl</a><br/>\\n<a href=\"wheelhouse/pymongo-3.11.1-cp38-cp38-manylinux2014_aarch64.whl\">pymongo-3.11.1-cp38-cp38-manylinux2014_aarch64.whl</a><br/>'"
      ]
     },
     "execution_count": 4,
     "metadata": {},
     "output_type": "execute_result"
    }
   ],
   "source": [
    "import os\n",
    "\n",
    "html_template = \"\"\"\n",
    "<html>\n",
    "<head></head>\n",
    "<body>\n",
    "{packages}\n",
    "</body>\n",
    "</html>\n",
    "\"\"\"\n",
    "\n",
    "link_template = '<a href=\"wheelhouse/{package}\">{package}</a><br/>'\n",
    "\n",
    "_packages=[]\n",
    "\n",
    "for p in os.listdir('wheelhouse'):\n",
    "    _packages.append(link_template.format(package=p))\n",
    "\n",
    "'\\n'.join(_packages)\n",
    "with open('index.html', 'w'):\n",
    "    f.write(html_template)"
   ]
  },
  {
   "cell_type": "markdown",
   "id": "cleared-trademark",
   "metadata": {},
   "source": [
    "## Usage of Wheels\n",
    "\n",
    "pip install --find-links https://parkin.github.io/python-wheelhouse/ --use-wheel PySide;\n",
    "\n",
    "RUN echo PyICU regex lxml pyproj==1.9.6| xargs -n 1 pip install --no-cache --find-links=./wheelhouse && rm -r ./wheelhouse\n",
    "\n",
    "RUN echo PyICU regex lxml pyproj==1.9.6| xargs -n 1 pip install --no-cache --find-links= https://opencomputinglab.github.io/vce-wheelhouse/wheelhouse \n"
   ]
  }
 ],
 "metadata": {
  "kernelspec": {
   "display_name": "Python 3",
   "language": "python",
   "name": "python3"
  },
  "language_info": {
   "codemirror_mode": {
    "name": "ipython",
    "version": 3
   },
   "file_extension": ".py",
   "mimetype": "text/x-python",
   "name": "python",
   "nbconvert_exporter": "python",
   "pygments_lexer": "ipython3",
   "version": "3.9.1"
  }
 },
 "nbformat": 4,
 "nbformat_minor": 5
}
